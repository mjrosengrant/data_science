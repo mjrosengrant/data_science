{
 "cells": [
  {
   "cell_type": "code",
   "execution_count": 17,
   "metadata": {
    "collapsed": false,
    "scrolled": true
   },
   "outputs": [
    {
     "name": "stdout",
     "output_type": "stream",
     "text": [
      "\n",
      ".\n",
      ".\n",
      "\n",
      ".\n",
      ".\n",
      "..\n"
     ]
    }
   ],
   "source": [
    "fibonacci = [0,1,1,3,5,8,13,21]\n",
    "derivatives =[1,0,2,2,3,6,8]\n",
    "\n",
    "def fibonacci(n):\n",
    "    if n == 0: return 0\n",
    "    elif n == 1: return 1\n",
    "    else: return fibonacci (n-1) + fibonacci(n-2)\n",
    "\n",
    "def derivative_fibonacci(n):\n",
    "    if n == 0: return 0\n",
    "    elif n == 1: return 1\n",
    "    else: return fibonacci (n-1) - fibonacci(n-2)\n",
    "    \n",
    "    \n",
    "for i in range(0,7):\n",
    "    pass\n",
    "    print '.' * derivative_fibonacci(i)\n",
    "    \n",
    "for i in range(0,7):\n",
    "    pass\n",
    "    print '.' * derivatives[i]\n"
   ]
  },
  {
   "cell_type": "code",
   "execution_count": null,
   "metadata": {
    "collapsed": true
   },
   "outputs": [],
   "source": [
    "print \"Hello\""
   ]
  },
  {
   "cell_type": "code",
   "execution_count": null,
   "metadata": {
    "collapsed": true
   },
   "outputs": [],
   "source": []
  }
 ],
 "metadata": {
  "kernelspec": {
   "display_name": "Python 2",
   "language": "python",
   "name": "python2"
  },
  "language_info": {
   "codemirror_mode": {
    "name": "ipython",
    "version": 2
   },
   "file_extension": ".py",
   "mimetype": "text/x-python",
   "name": "python",
   "nbconvert_exporter": "python",
   "pygments_lexer": "ipython2",
   "version": "2.7.12"
  }
 },
 "nbformat": 4,
 "nbformat_minor": 0
}
